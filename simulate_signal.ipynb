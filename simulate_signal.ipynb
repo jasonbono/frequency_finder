{
 "cells": [
  {
   "cell_type": "code",
   "execution_count": 1,
   "metadata": {},
   "outputs": [],
   "source": [
    "import numpy as np\n",
    "import matplotlib.pyplot as plt\n",
    "import random\n",
    "import csv\n",
    "from itertools import chain"
   ]
  },
  {
   "cell_type": "code",
   "execution_count": 2,
   "metadata": {},
   "outputs": [],
   "source": [
    "def func_y(time):\n",
    "    freq = 50026.3*2.0*np.pi\n",
    "    phase = 0\n",
    "    y = 10000.0*np.sin(freq*time + phase)\n",
    "    y = y*np.exp(-500.0*time)\n",
    "    y = 0.5*y*(2 + np.sin(2000*time))\n",
    "    if(time < 0.0004):\n",
    "        y = 0;\n",
    "    return y\n",
    "\n",
    "def rand():\n",
    "    r = random.gauss(0, 0.01)\n",
    "    return r\n",
    "\n",
    "def simple(time):\n",
    "    freq = 54321.0987654321*2.0*np.pi\n",
    "    phase = 0\n",
    "    amp = 1\n",
    "    amp = 1 + 0.1*np.sin(1000.0*time+phase)\n",
    "    y = amp*np.sin(freq*time + phase)\n",
    "    return y"
   ]
  },
  {
   "cell_type": "code",
   "execution_count": 3,
   "metadata": {},
   "outputs": [
    {
     "data": {
      "image/png": "[encoded data removed]",
      "text/plain": [
       "<Figure size 432x288 with 1 Axes>"
      ]
     },
     "metadata": {
      "needs_background": "light"
     },
     "output_type": "display_data"
    }
   ],
   "source": [
    "\n",
    "offset = 6548.8\n",
    "offset = 60000\n",
    "sample_freq = 1000000 #hz\n",
    "\n",
    "signal_length = 0.004 #seconds\n",
    "\n",
    "n_samples = int(sample_freq*signal_length)\n",
    "\n",
    "times = np.empty(0)\n",
    "vals = np.empty(0)\n",
    "\n",
    "for i in range(0,n_samples):\n",
    "    time = float(i)/float(sample_freq)\n",
    "\n",
    "    val = func_y(time)\n",
    "    val = val + offset\n",
    "    #to make simple sine up comment this line\n",
    "    val = simple(time)\n",
    "    val = val + rand()\n",
    "    \n",
    "    times = np.append(times, time)\n",
    "    vals = np.append(vals, val)\n",
    "    list = [time,\",\",val]\n",
    "\n",
    "#############################################\n",
    "plt.plot(times,vals,'-',lw=2)\n",
    "#plt.plot(time,signal, '-', lw=2)\n",
    "plt.show()\n",
    "\n",
    "####random shuffling does nothing####\n",
    "#a = times\n",
    "#b = vals\n",
    "#c = np.c_[a.reshape(len(a), -1), b.reshape(len(b), -1)]\n",
    "#np.random.shuffle(c)\n",
    "#a2 = c[:, :a.size//len(a)].reshape(a.shape)\n",
    "#b2 = c[:, a.size//len(a):].reshape(b.shape)\n",
    "#plt.plot(b2,\"go\")\n",
    "#plt.show()\n",
    "#####################################\n",
    "\n",
    "#f= open(\"../data/simple.txt\",\"w\")\n",
    "f= open(\"data/test2.txt\",\"w\")\n",
    "\n",
    "zip(times,vals)\n",
    "writer = csv.writer(f, delimiter=',')\n",
    "writer.writerows(zip(times,vals))\n",
    "f.close()\n",
    "\n"
   ]
  },
  {
   "cell_type": "code",
   "execution_count": null,
   "metadata": {},
   "outputs": [],
   "source": []
  }
 ],
 "metadata": {
  "kernelspec": {
   "display_name": "Python 3",
   "language": "python",
   "name": "python3"
  },
  "language_info": {
   "codemirror_mode": {
    "name": "ipython",
    "version": 3
   },
   "file_extension": ".py",
   "mimetype": "text/x-python",
   "name": "python",
   "nbconvert_exporter": "python",
   "pygments_lexer": "ipython3",
   "version": "3.7.3"
  }
 },
 "nbformat": 4,
 "nbformat_minor": 2
}
